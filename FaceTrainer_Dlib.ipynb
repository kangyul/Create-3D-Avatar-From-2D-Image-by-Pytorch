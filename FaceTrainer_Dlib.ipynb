{
 "cells": [
  {
   "cell_type": "markdown",
   "metadata": {},
   "source": [
    "\n",
    "Facial Recognition using PyTorch and OpenCV\n",
    "\n",
    "https://ritik12.medium.com/facial-recognition-using-pytorch-and-opencv-467c4e41d1f\n",
    "\n",
    "\n",
    "Machine Learning - Face Recognition CNN Pytorch.ipynb\n",
    "https://github.com/rubencg195/Pytorch-Tutorials/blob/master/Machine%20Learning%20-%20Face%20Recognition%20CNN%20Pytorch.ipynb\n",
    "\n",
    "\n",
    "\n",
    "Face Recognition Using Pytorch\n",
    "https://github.com/timesler/facenet-pytorch"
   ]
  },
  {
   "cell_type": "code",
   "execution_count": 1,
   "metadata": {},
   "outputs": [
    {
     "name": "stdout",
     "output_type": "stream",
     "text": [
      "Using cuda device\n"
     ]
    }
   ],
   "source": [
    "from torch.optim import lr_scheduler\n",
    "from torch.nn.init import *\n",
    "from torchvision import transforms, utils, datasets, models\n",
    "from pathlib import Path\n",
    "import matplotlib.pyplot as plt\n",
    "import matplotlib.animation as animation\n",
    "import pandas as pd\n",
    "import numpy as np\n",
    "import torch\n",
    "from torch import nn, optim\n",
    "from torch.utils.data import Dataset, DataLoader\n",
    "import torch.nn.functional as F\n",
    "from torchvision import datasets\n",
    "from torchvision.transforms import ToTensor\n",
    "\n",
    "from FaceFeatureDataset import FaceFeatureDataset\n",
    "\n",
    "# Get cpu or gpu device for training.\n",
    "device = \"cuda\" if torch.cuda.is_available() else \"cpu\"\n",
    "print(f\"Using {device} device\")\n"
   ]
  },
  {
   "cell_type": "code",
   "execution_count": 5,
   "metadata": {},
   "outputs": [],
   "source": [
    "batch_size = 10\n",
    "epochs = 10"
   ]
  },
  {
   "cell_type": "code",
   "execution_count": 2,
   "metadata": {},
   "outputs": [
    {
     "name": "stdout",
     "output_type": "stream",
     "text": [
      "torch.Size([10, 2, 64])\n",
      "torch.Size([10, 2, 32])\n",
      "torch.Size([10, 128])\n"
     ]
    }
   ],
   "source": [
    "linear_layer_2d = nn.Linear(in_features=64, out_features=32)\n",
    "flatten = nn.Flatten()\n",
    "# 1st dimension (128) = batch dimension, input 64 x 2\n",
    "input_2d = torch.randn(10, 2, 64)\n",
    "# print(input_2d)\n",
    "print(input_2d.shape)\n",
    "output_2d = linear_layer_2d(input_2d)\n",
    "print(output_2d.size())\n",
    "\n",
    "output_1d = flatten(input_2d)\n",
    "print(output_1d.size())\n"
   ]
  },
  {
   "cell_type": "code",
   "execution_count": 3,
   "metadata": {},
   "outputs": [
    {
     "name": "stdout",
     "output_type": "stream",
     "text": [
      "[[0.15214901 0.26409625]\n",
      " [0.15847385 0.35434336]\n",
      " [0.17404998 0.4446534 ]\n",
      " [0.19193892 0.53497918]\n",
      " [0.21678205 0.62303933]\n",
      " [0.262472   0.70661546]\n",
      " [0.32675891 0.77644054]\n",
      " [0.40500139 0.83479593]\n",
      " [0.48582416 0.85384914]\n",
      " [0.56685146 0.84283572]\n",
      " [0.6481305  0.79481721]\n",
      " [0.71564276 0.73051458]\n",
      " [0.7716696  0.65456918]\n",
      " [0.80464692 0.56690236]\n",
      " [0.82840444 0.47454697]\n",
      " [0.8521777  0.37987876]\n",
      " [0.86440259 0.28281907]\n",
      " [0.20106432 0.21354466]\n",
      " [0.24754095 0.18147987]\n",
      " [0.30772143 0.17495049]\n",
      " [0.36313466 0.189205  ]\n",
      " [0.41614068 0.21732068]\n",
      " [0.58269505 0.21382786]\n",
      " [0.64068857 0.18878019]\n",
      " [0.70321333 0.17764091]\n",
      " [0.76562795 0.18269135]\n",
      " [0.81392966 0.22233966]\n",
      " [0.50349283 0.29655437]\n",
      " [0.50303656 0.3636261 ]\n",
      " [0.50025174 0.43299491]\n",
      " [0.4951541  0.50234799]\n",
      " [0.43711337 0.5343341 ]\n",
      " [0.46480426 0.54377418]\n",
      " [0.49713651 0.5509329 ]\n",
      " [0.52726608 0.54188616]\n",
      " [0.55509857 0.53051087]\n",
      " [0.27217955 0.29960666]\n",
      " [0.30701342 0.2790273 ]\n",
      " [0.35326978 0.27934197]\n",
      " [0.39471171 0.30737899]\n",
      " [0.35067376 0.32095696]\n",
      " [0.3044174  0.3206423 ]\n",
      " [0.60516242 0.31112355]\n",
      " [0.64468487 0.28132439]\n",
      " [0.6955826  0.2793577 ]\n",
      " [0.73708746 0.29814345]\n",
      " [0.69762795 0.31869135]\n",
      " [0.64904304 0.32067376]\n",
      " [0.38319482 0.64036187]\n",
      " [0.42267006 0.61750116]\n",
      " [0.46208237 0.60389172]\n",
      " [0.49439889 0.61336326]\n",
      " [0.52452846 0.60431652]\n",
      " [0.56373623 0.62077372]\n",
      " [0.61219528 0.63729385]\n",
      " [0.56796853 0.67862564]\n",
      " [0.52855622 0.69223508]\n",
      " [0.49384822 0.69431189]\n",
      " [0.45917168 0.69176307]\n",
      " [0.41997964 0.67299306]\n",
      " [0.40399445 0.64281629]\n",
      " [0.45956502 0.63394262]\n",
      " [0.49424155 0.63649144]\n",
      " [0.52432392 0.63438316]\n",
      " [0.58903563 0.64176215]\n",
      " [0.52660528 0.63902453]\n",
      " [0.49650717 0.64344563]\n",
      " [0.46184637 0.63858399]]\n",
      "imagefile\n"
     ]
    }
   ],
   "source": [
    "\n",
    "testload = pd.read_csv(\"./outimg/Train/facefeature.csv\")\n",
    "landmarks = np.array(testload.iloc[0, 1:])\n",
    "landmarks = landmarks.astype('float').reshape(-1, 2)\n",
    "print(landmarks)\n",
    "\n",
    "dataiter = iter(testload)\n",
    "landmark = next(dataiter)\n",
    "print(landmark)\n",
    "# print(landmarks.shape)\n"
   ]
  },
  {
   "cell_type": "code",
   "execution_count": 7,
   "metadata": {},
   "outputs": [
    {
     "name": "stdout",
     "output_type": "stream",
     "text": [
      "Shape of X [N, F, C]: torch.Size([10, 68, 2])\n",
      "Shape of Tensor y: torch.Size([10, 33]) torch.float32\n",
      "Traing dat length 10\n"
     ]
    }
   ],
   "source": [
    "# Create DataLoader \n",
    "\n",
    "training_data = FaceFeatureDataset(feature_file=\"./outimg/Train/facefeature.csv\", label_file=\"./Dataset/Train/csv/train.csv\")\n",
    "test_data = FaceFeatureDataset(feature_file=\"./outimg/Test/facefeature.csv\", label_file=\"./Dataset/Test/csv/test.csv\")\n",
    "\n",
    "train_loader = DataLoader(training_data, batch_size=batch_size, shuffle=True)\n",
    "test_loader = DataLoader(test_data, batch_size=batch_size, shuffle=False)\n",
    "\n",
    "# 데이터 로드 확인 \n",
    "for X, y in train_loader:\n",
    "    print(f\"Shape of X [N, F, C]: {X.shape}\") # N , Channel, H= width W = height\n",
    "    # print(X[0][0])\n",
    "    print(f\"Shape of Tensor y: {y.shape} {y.dtype}\")   \n",
    "    break\n",
    "\n",
    "n_total_steps = len(train_loader)\n",
    "print(f'Traing dat length {n_total_steps}')"
   ]
  },
  {
   "cell_type": "code",
   "execution_count": 17,
   "metadata": {},
   "outputs": [
    {
     "name": "stdout",
     "output_type": "stream",
     "text": [
      "Shape  torch.Size([10, 68, 2])\n",
      "torch.Size([10, 136])\n"
     ]
    },
    {
     "ename": "RuntimeError",
     "evalue": "mat1 and mat2 must have the same dtype",
     "output_type": "error",
     "traceback": [
      "\u001b[1;31m---------------------------------------------------------------------------\u001b[0m",
      "\u001b[1;31mRuntimeError\u001b[0m                              Traceback (most recent call last)",
      "Cell \u001b[1;32mIn [17], line 9\u001b[0m\n\u001b[0;32m      7\u001b[0m x \u001b[39m=\u001b[39m flatten(landmark)\n\u001b[0;32m      8\u001b[0m \u001b[39mprint\u001b[39m(x\u001b[39m.\u001b[39mshape)\n\u001b[1;32m----> 9\u001b[0m x \u001b[39m=\u001b[39m linear1(x)\n\u001b[0;32m     11\u001b[0m \u001b[39m# print('linear1', x.shape)\u001b[39;00m\n",
      "File \u001b[1;32mc:\\Python310\\lib\\site-packages\\torch\\nn\\modules\\module.py:1190\u001b[0m, in \u001b[0;36mModule._call_impl\u001b[1;34m(self, *input, **kwargs)\u001b[0m\n\u001b[0;32m   1186\u001b[0m \u001b[39m# If we don't have any hooks, we want to skip the rest of the logic in\u001b[39;00m\n\u001b[0;32m   1187\u001b[0m \u001b[39m# this function, and just call forward.\u001b[39;00m\n\u001b[0;32m   1188\u001b[0m \u001b[39mif\u001b[39;00m \u001b[39mnot\u001b[39;00m (\u001b[39mself\u001b[39m\u001b[39m.\u001b[39m_backward_hooks \u001b[39mor\u001b[39;00m \u001b[39mself\u001b[39m\u001b[39m.\u001b[39m_forward_hooks \u001b[39mor\u001b[39;00m \u001b[39mself\u001b[39m\u001b[39m.\u001b[39m_forward_pre_hooks \u001b[39mor\u001b[39;00m _global_backward_hooks\n\u001b[0;32m   1189\u001b[0m         \u001b[39mor\u001b[39;00m _global_forward_hooks \u001b[39mor\u001b[39;00m _global_forward_pre_hooks):\n\u001b[1;32m-> 1190\u001b[0m     \u001b[39mreturn\u001b[39;00m forward_call(\u001b[39m*\u001b[39m\u001b[39minput\u001b[39m, \u001b[39m*\u001b[39m\u001b[39m*\u001b[39mkwargs)\n\u001b[0;32m   1191\u001b[0m \u001b[39m# Do not call functions when jit is used\u001b[39;00m\n\u001b[0;32m   1192\u001b[0m full_backward_hooks, non_full_backward_hooks \u001b[39m=\u001b[39m [], []\n",
      "File \u001b[1;32mc:\\Python310\\lib\\site-packages\\torch\\nn\\modules\\linear.py:114\u001b[0m, in \u001b[0;36mLinear.forward\u001b[1;34m(self, input)\u001b[0m\n\u001b[0;32m    113\u001b[0m \u001b[39mdef\u001b[39;00m \u001b[39mforward\u001b[39m(\u001b[39mself\u001b[39m, \u001b[39minput\u001b[39m: Tensor) \u001b[39m-\u001b[39m\u001b[39m>\u001b[39m Tensor:\n\u001b[1;32m--> 114\u001b[0m     \u001b[39mreturn\u001b[39;00m F\u001b[39m.\u001b[39;49mlinear(\u001b[39minput\u001b[39;49m, \u001b[39mself\u001b[39;49m\u001b[39m.\u001b[39;49mweight, \u001b[39mself\u001b[39;49m\u001b[39m.\u001b[39;49mbias)\n",
      "\u001b[1;31mRuntimeError\u001b[0m: mat1 and mat2 must have the same dtype"
     ]
    }
   ],
   "source": [
    "dataiter = iter(train_loader)\n",
    "landmark, labels = next(dataiter)\n",
    "\n",
    "print(\"Shape \", landmark.shape)\n",
    "linear1 = nn.Linear(68*2, 32)\n",
    "flatten = nn.Flatten()\n",
    "x = flatten(landmark)\n",
    "print(x.shape)\n",
    "x = linear1(x)\n",
    "\n",
    "# print('linear1', x.shape)\n"
   ]
  },
  {
   "cell_type": "code",
   "execution_count": null,
   "metadata": {},
   "outputs": [],
   "source": [
    "\n",
    "num_classes = 33\n",
    "\n",
    "# Define model\n",
    "class NeuralNetwork(nn.Module):\n",
    "    def __init__(self):\n",
    "        super().__init__()\n",
    "        self.flatten = nn.Flatten()\n",
    "\n",
    "        self.linear_relu_stack = nn.Sequential(\n",
    "            nn.Linear(68, 64),\n",
    "            nn.ReLU(),\n",
    "            nn.Linear(64, num_classes),\n",
    "            nn.ReLU(),\n",
    "        )\n",
    "    \n",
    "\n",
    "    def forward(self, x):\n",
    "        x = self.flatten(x)\n",
    "        logits = self.linear_relu_stack(x)\n",
    "        return logits\n",
    "\n",
    "model = NeuralNetwork().to(device)\n",
    "print(model)\n"
   ]
  },
  {
   "cell_type": "code",
   "execution_count": null,
   "metadata": {},
   "outputs": [],
   "source": [
    "# criterion = nn.CrossEntropyLoss()\n",
    "criterion = nn.MSELoss()\n",
    "optimizer = optim.SGD(model.parameters(), lr=0.001, momentum=0.9)\n"
   ]
  },
  {
   "cell_type": "code",
   "execution_count": null,
   "metadata": {},
   "outputs": [],
   "source": [
    "def train(dataloader, model, loss_fn, optimizer):\n",
    "    size = len(dataloader.dataset)\n",
    "    model.train()\n",
    "    for batch, (X, y) in enumerate(dataloader):\n",
    "        X, y = X.to(device), y.to(device)\n",
    "        # Compute prediction error\n",
    "        pred = model(X)\n",
    "        print(pred)\n",
    "        \n",
    "        loss = loss_fn(pred, y)\n",
    "        # Backpropagation\n",
    "        optimizer.zero_grad()\n",
    "        loss.backward()\n",
    "        optimizer.step()\n",
    "\n",
    "        if batch % 10 == 0:\n",
    "            loss, current = loss.item(), batch * len(X)\n",
    "            print(f\"loss: {loss:>7f}  [{current:>5d}/{size:>5d}]\")"
   ]
  },
  {
   "cell_type": "code",
   "execution_count": null,
   "metadata": {},
   "outputs": [],
   "source": [
    "# Training\n",
    "epochs = 10\n",
    "\n",
    "for t in range(epochs):\n",
    "    print(f\"Epoch {t+1}\\n-------------------------------\")\n",
    "    train(train_loader, model, criterion, optimizer)    \n",
    "print(\"Done!\")"
   ]
  },
  {
   "cell_type": "code",
   "execution_count": null,
   "metadata": {},
   "outputs": [],
   "source": [
    "PATH = './cifar_net.pth'\n",
    "torch.save(model.state_dict(), PATH)"
   ]
  },
  {
   "cell_type": "code",
   "execution_count": null,
   "metadata": {},
   "outputs": [],
   "source": [
    "def test(dataloader, model, loss_fn):\n",
    "    size = len(dataloader.dataset)\n",
    "    num_batches = len(dataloader)\n",
    "    model.eval()\n",
    "    test_loss, correct = 0,0\n",
    "    with torch.no_grad():\n",
    "        for X,y in dataloader:\n",
    "            X, y = X.to(device), y.to(device)\n",
    "            pred = model(X)\n",
    "            print(pred)\n",
    "\n"
   ]
  },
  {
   "cell_type": "code",
   "execution_count": null,
   "metadata": {},
   "outputs": [],
   "source": [
    "for t in range(epochs):\n",
    "    test(test_loader, model, criterion)\n",
    "\n",
    "print(\"Done !\")"
   ]
  }
 ],
 "metadata": {
  "kernelspec": {
   "display_name": "Python 3.10.8 64-bit",
   "language": "python",
   "name": "python3"
  },
  "language_info": {
   "codemirror_mode": {
    "name": "ipython",
    "version": 3
   },
   "file_extension": ".py",
   "mimetype": "text/x-python",
   "name": "python",
   "nbconvert_exporter": "python",
   "pygments_lexer": "ipython3",
   "version": "3.10.8"
  },
  "orig_nbformat": 4,
  "vscode": {
   "interpreter": {
    "hash": "369f2c481f4da34e4445cda3fffd2e751bd1c4d706f27375911949ba6bb62e1c"
   }
  }
 },
 "nbformat": 4,
 "nbformat_minor": 2
}
