{
 "cells": [
  {
   "cell_type": "code",
   "execution_count": 21,
   "metadata": {},
   "outputs": [
    {
     "name": "stdout",
     "output_type": "stream",
     "text": [
      "inputdata tensor([[ 5.8369,  6.8109],\n",
      "        [-8.0098, -9.2565],\n",
      "        [ 9.2559,  9.0258],\n",
      "        [-2.0519,  4.8206],\n",
      "        [ 7.6587,  6.0968],\n",
      "        [-4.3998, -0.1183],\n",
      "        [ 8.8102, -3.2193],\n",
      "        [ 9.8690,  0.6314],\n",
      "        [-0.8034,  3.1222],\n",
      "        [-1.0568, -4.8786]])\n"
     ]
    }
   ],
   "source": [
    "import torch\n",
    "import torch.optim as optim\n",
    "import torch.nn as nn\n",
    "import torch.optim as optim\n",
    "import torch.nn.init as init\n",
    "import matplotlib.pyplot as plt\n",
    "import numpy as np\n",
    "\n",
    "num_data = 10\n",
    "num_epoch = 10\n",
    "device = \"cuda\" if torch.cuda.is_available() else \"cpu\"\n",
    "\n",
    "sub = torch.tensor((1, 1))\n",
    "\n",
    "def getwidth(x : torch.tensor):\n",
    "    #print('train ', x)\n",
    "    width = x[:][:][0]\n",
    "    return width\n",
    "\n",
    "\n",
    "inputdata = init.uniform_(torch.Tensor(num_data, 2), -10, 10)\n",
    "print('inputdata', inputdata)\n",
    "\n",
    "\n",
    "\n",
    "\n"
   ]
  },
  {
   "cell_type": "code",
   "execution_count": null,
   "metadata": {},
   "outputs": [],
   "source": [
    "\n",
    "\n",
    "train = getwidth(inputdata)\n",
    "print(\"train\" , train)\n",
    "\n",
    "inputdata.to(device)\n",
    "\n",
    "model = nn.Sequential(\n",
    "    nn.Linear(2, 1)\n",
    ")\n",
    "\n",
    "loss_func = nn.L1Loss().to(device)\n",
    "optimizer = torch.optim.Adam(model.parameters(), lr=0.002)\n",
    "\n",
    "model.train()\n",
    "\n",
    "for epoch in range(num_epoch):\n",
    "    optimizer.zero_grad()\n",
    "    estmate = model(inputdata)\n",
    "    loss = loss_func(estmate, train)    \n"
   ]
  }
 ],
 "metadata": {
  "kernelspec": {
   "display_name": "Python 3",
   "language": "python",
   "name": "python3"
  },
  "language_info": {
   "codemirror_mode": {
    "name": "ipython",
    "version": 3
   },
   "file_extension": ".py",
   "mimetype": "text/x-python",
   "name": "python",
   "nbconvert_exporter": "python",
   "pygments_lexer": "ipython3",
   "version": "3.10.8"
  },
  "orig_nbformat": 4,
  "vscode": {
   "interpreter": {
    "hash": "369f2c481f4da34e4445cda3fffd2e751bd1c4d706f27375911949ba6bb62e1c"
   }
  }
 },
 "nbformat": 4,
 "nbformat_minor": 2
}
